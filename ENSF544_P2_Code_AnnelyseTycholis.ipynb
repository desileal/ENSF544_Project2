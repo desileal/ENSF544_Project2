{
  "cells": [
    {
      "cell_type": "markdown",
      "metadata": {
        "id": "18IPtiq0icJB"
      },
      "source": [
        "\n",
        "The following code is associated to Paper 1 in the Report and the Powerpoint\n",
        "This code's focus is on the RandomForest algorithm\n",
        "Author: Annelyse Tycholis | 30009090\n",
        "\n",
        "References:\n",
        "[1] https://www.kaggle.com/datasets/uciml/pima-indians-diabetes-database?datasetId=228\n",
        "[2] https://paperswithcode.com/paper/performance-accuration-method-of-machine\n",
        "[3] https://www.kaggle.com/code/basit7/pima-dataset-random-forest-classifier-84-4\n"
      ]
    },
    {
      "cell_type": "code",
      "execution_count": 54,
      "metadata": {
        "id": "eXrmM3NfStHd"
      },
      "outputs": [],
      "source": [
        "import pandas as pd\n",
        "import numpy as np\n",
        "import seaborn as sns\n",
        "import matplotlib.pyplot as plt\n",
        "from sklearn.preprocessing import StandardScaler\n",
        "from sklearn.model_selection import train_test_split\n",
        "from sklearn.ensemble import RandomForestClassifier\n",
        "from sklearn.model_selection import RandomizedSearchCV\n",
        "from sklearn.metrics import confusion_matrix, accuracy_score, ConfusionMatrixDisplay, classification_report"
      ]
    },
    {
      "cell_type": "code",
      "execution_count": null,
      "metadata": {
        "id": "n2OXA4xLNUhS"
      },
      "outputs": [],
      "source": [
        "# Read Data\n",
        "data = pd.read_csv(\"/content/diabetes.csv\")\n",
        "# Data contents\n",
        "data.head()"
      ]
    },
    {
      "cell_type": "code",
      "execution_count": 56,
      "metadata": {
        "id": "th3jhW68NyB_"
      },
      "outputs": [],
      "source": [
        "# Isolate Features + labels \n",
        "features, labels = data.iloc[:, :-1],  data.iloc[:, [-1]]"
      ]
    },
    {
      "cell_type": "code",
      "execution_count": 57,
      "metadata": {
        "id": "cm6V9EZmQU2r"
      },
      "outputs": [],
      "source": [
        "# Divide the dataset into training = 75% + test = 25% sets\n",
        "x_train, x_test, y_train, y_test = train_test_split(features, labels, test_size=0.25, random_state=42)"
      ]
    },
    {
      "cell_type": "code",
      "execution_count": 58,
      "metadata": {
        "id": "0MtvZxNaQfXy"
      },
      "outputs": [],
      "source": [
        "# Recreation of the exact Model from the Paper\n",
        "RFC_paper = RandomForestClassifier(n_estimators=100, criterion='gini', max_depth=6, max_features=4, random_state=0).fit(x_train, y_train.values.ravel())"
      ]
    },
    {
      "cell_type": "code",
      "execution_count": null,
      "metadata": {
        "id": "gWzI-0lvRMwa"
      },
      "outputs": [],
      "source": [
        "# Model Results\n",
        "print(\"Accuracy on Test Set from Methods in Paper: \", round(RFC_paper.score(x_test, y_test)*100, 1), \"\\n\")\n",
        "\n",
        "y_pred = RFC_paper.predict(x_test)\n",
        "\n",
        "print(\"Classification report:\\n\")\n",
        "\n",
        "print(\"{}\".format(classification_report(y_test,y_pred)))\n",
        "\n",
        "# Confusion Matrix Depicting Efficacy of the Model based on the Predictions\n",
        "confusion_matrix = confusion_matrix(y_test, y_pred)\n",
        "cm_display = ConfusionMatrixDisplay(confusion_matrix = confusion_matrix, display_labels = [False, True])\n",
        "cm_display.plot()\n",
        "plt.grid(False)"
      ]
    },
    {
      "cell_type": "code",
      "execution_count": null,
      "metadata": {
        "id": "eB1Q0p6zS-uH"
      },
      "outputs": [],
      "source": [
        "# All Cells Below Correspond to Modifications Made to What was Proposed by the Authors \n",
        "# Data Visualization prior to preprocessing\n",
        "sns.pairplot(data=data,hue='Outcome')"
      ]
    },
    {
      "cell_type": "code",
      "execution_count": 61,
      "metadata": {
        "id": "sXtbBWCucihu"
      },
      "outputs": [],
      "source": [
        "# Modification 1: Preprocessing - replacing rows with 0 values to mean or median\n",
        "data['Glucose']=np.where(data['Glucose']==0, data['Glucose'].mean(),data['Glucose'])\n",
        "data['BloodPressure']=np.where(data['BloodPressure']==0,data['BloodPressure'].mean(),data['BloodPressure'])\n",
        "data['SkinThickness']=np.where(data['SkinThickness']==0,data['SkinThickness'].mean(),data['SkinThickness'])\n",
        "data['BMI']=np.where(data['BMI']==0,data['BMI'].mean(),data['BMI'])\n"
      ]
    },
    {
      "cell_type": "code",
      "execution_count": 65,
      "metadata": {
        "id": "Uw516LgWjZFz"
      },
      "outputs": [],
      "source": [
        "# Re-organize the dataset following preprocessing + Re-split\n",
        "# Features + labels \n",
        "features, labels = data.iloc[:, :-1],  data.iloc[:, [-1]]\n",
        "\n",
        "# Divide dataset training = 75% & test = 25%\n",
        "x_train, x_test, y_train, y_test = train_test_split(features, labels, test_size=0.25, random_state=42)"
      ]
    },
    {
      "cell_type": "code",
      "execution_count": 66,
      "metadata": {
        "id": "VS9XPqpYejel"
      },
      "outputs": [],
      "source": [
        "# Scale Features for Better Performance\n",
        "scaling_x=StandardScaler()\n",
        "x_train=scaling_x.fit_transform(x_train)\n",
        "x_test=scaling_x.transform(x_test)"
      ]
    },
    {
      "cell_type": "code",
      "execution_count": 67,
      "metadata": {
        "colab": {
          "base_uri": "https://localhost:8080/"
        },
        "id": "vSPRhonyhe-3",
        "outputId": "d295420a-0cc5-44c9-baa8-77a0afa7b806"
      },
      "outputs": [
        {
          "name": "stdout",
          "output_type": "stream",
          "text": [
            "{'n_estimators': [100, 109, 118, 127, 136, 145, 154, 163, 172, 181, 190, 200], 'max_features': ['auto', 'sqrt', 'log2'], 'max_depth': [120, 120, 120, 120, 120, 120, 120, 120, 121, 121, 121, 121, 121, 121, 121, 121, 122, 122, 122, 122, 122, 122, 122, 122, 123, 123, 123, 123, 123, 123, 123, 123, 124, 124, 124, 124, 124, 124, 124, 124, 125, 125, 125, 125, 125, 125, 125, 125, 126, 126, 126, 126, 126, 126, 126, 126, 127, 127, 127, 127, 127, 127, 127, 127, 128, 128, 128, 128, 128, 128, 128, 128, 129, 129, 129, 129, 129, 129, 129, 129, 130, 130, 130, 130, 130, 130, 130, 130, 131, 131, 131, 131, 131, 131, 131, 131, 132, 132, 132, 132, 132, 132, 132, 132, 133, 133, 133, 133, 133, 133, 133, 133, 134, 134, 134, 134, 134, 134, 134, 134, 135, 135, 135, 135, 135, 135, 135, 135, 136, 136, 136, 136, 136, 136, 136, 136, 137, 137, 137, 137, 137, 137, 137, 137, 138, 138, 138, 138, 138, 138, 138, 138, 139, 139, 139, 139, 139, 139, 139, 140], 'min_samples_split': [10, 20, 40], 'min_samples_leaf': [10, 20, 40], 'criterion': ['entropy', 'gini'], 'bootstrap': [True, False], 'max_leaf_nodes': [5, 7, 10]}\n"
          ]
        }
      ],
      "source": [
        "# Parameter Setup for Hypertuning the RF Model\n",
        "# Number of trees\n",
        "n_estimators = [int(x) for x in np.linspace(start = 100, stop = 200, num = 12)]\n",
        "# Number of features to consider at every split\n",
        "max_features = ['auto', 'sqrt','log2']\n",
        "# Maximum number of levels in each tree\n",
        "max_depth = [int(x) for x in np.linspace(120, 140, 160)]\n",
        "# Minimum number of samples required to split a node\n",
        "min_samples_split = [10, 20, 40]\n",
        "# Minimum number of samples required at each leaf node\n",
        "min_samples_leaf = [10, 20, 40]\n",
        "# Create the random grid\n",
        "random_grid = {'n_estimators': n_estimators,\n",
        "               'max_features': max_features,\n",
        "               'max_depth': max_depth,\n",
        "               'min_samples_split': min_samples_split,\n",
        "               'min_samples_leaf': min_samples_leaf,\n",
        "              'criterion':['entropy','gini'],\n",
        "               'bootstrap':[True, False],\n",
        "               'max_leaf_nodes':[5, 7, 10],}\n",
        "print(random_grid)"
      ]
    },
    {
      "cell_type": "code",
      "execution_count": 72,
      "metadata": {
        "colab": {
          "base_uri": "https://localhost:8080/",
          "height": 313
        },
        "id": "qWA3uQ6GgKkz",
        "outputId": "65e2752d-88ab-428c-9fa9-de88706db3f7"
      },
      "outputs": [
        {
          "data": {
            "text/plain": [
              "<matplotlib.legend.Legend at 0x7ffa6568aa30>"
            ]
          },
          "execution_count": 72,
          "metadata": {},
          "output_type": "execute_result"
        },
        {
          "data": {
            "image/png": "[encoded data removed]",
            "text/plain": [
              "<Figure size 432x288 with 1 Axes>"
            ]
          },
          "metadata": {
            "needs_background": "light"
          },
          "output_type": "display_data"
        }
      ],
      "source": [
        "# The following graphs were used to estimate the best possible values for each parameter of the \n",
        "# RandomForest Algorithm that was ultimately used in the parameter setup in the above cell\n",
        "\n",
        "# Cross Validation for Number of Estimators\n",
        "i = 5\n",
        "x = list()\n",
        "y = list()\n",
        "while i < 300:\n",
        "  RFC = RandomForestClassifier(n_estimators=i).fit(x_train, y_train.values.ravel())\n",
        "  x.append(i)\n",
        "  y.append(RFC.score(x_test, y_test))\n",
        "  i = i+50\n",
        "\n",
        "plt.plot(x,y, label='n_estimators')\n",
        "\n",
        "# Cross Validation for Max Depth \n",
        "i = 5\n",
        "x = list()\n",
        "y = list()\n",
        "while i < 200:\n",
        "  RFC = RandomForestClassifier(max_depth=i).fit(x_train, y_train.values.ravel())\n",
        "  x.append(i)\n",
        "  y.append(RFC.score(x_test, y_test))\n",
        "  i = i+50\n",
        "\n",
        "plt.plot(x,y, label='max_depth')\n",
        "\n",
        "# Cross Validation for Min Leaf Samples\n",
        "i = 5\n",
        "x = list()\n",
        "y = list()\n",
        "while i < 200:\n",
        "  RFC = RandomForestClassifier( min_samples_leaf=i).fit(x_train, y_train.values.ravel())\n",
        "  x.append(i)\n",
        "  y.append(RFC.score(x_test, y_test))\n",
        "  i = i+50\n",
        "\n",
        "plt.plot(x,y, label='min_samples_leaf')\n",
        "\n",
        "# Cross Validation for Max Leaf Nodes\n",
        "i = 5\n",
        "x = list()\n",
        "y = list()\n",
        "while i < 30:\n",
        "  RFC = RandomForestClassifier(max_leaf_nodes=i).fit(x_train, y_train.values.ravel())\n",
        "  x.append(i)\n",
        "  y.append(RFC.score(x_test, y_test))\n",
        "  i = i+5\n",
        "\n",
        "plt.plot(x,y, label='max_leaf_nodes')\n",
        "plt.title('Score as a Function of different RandomForest Parameters')\n",
        "plt.xlabel('Value')\n",
        "plt.ylabel('Score')\n",
        "plt.legend()"
      ]
    },
    {
      "cell_type": "code",
      "execution_count": 73,
      "metadata": {
        "colab": {
          "base_uri": "https://localhost:8080/"
        },
        "id": "Lq89_bmijpi_",
        "outputId": "ab468e91-d35c-40a5-c2d8-ea3204ecbcd7"
      },
      "outputs": [
        {
          "name": "stderr",
          "output_type": "stream",
          "text": [
            "/usr/local/lib/python3.8/dist-packages/sklearn/model_selection/_search.py:926: DataConversionWarning: A column-vector y was passed when a 1d array was expected. Please change the shape of y to (n_samples,), for example using ravel().\n",
            "  self.best_estimator_.fit(X, y, **fit_params)\n"
          ]
        },
        {
          "data": {
            "text/plain": [
              "RandomizedSearchCV(cv=3, estimator=RandomForestClassifier(), n_iter=22,\n",
              "                   n_jobs=-1,\n",
              "                   param_distributions={'bootstrap': [True, False],\n",
              "                                        'criterion': ['entropy', 'gini'],\n",
              "                                        'max_depth': [120, 120, 120, 120, 120,\n",
              "                                                      120, 120, 120, 121, 121,\n",
              "                                                      121, 121, 121, 121, 121,\n",
              "                                                      121, 122, 122, 122, 122,\n",
              "                                                      122, 122, 122, 122, 123,\n",
              "                                                      123, 123, 123, 123, 123, ...],\n",
              "                                        'max_features': ['auto', 'sqrt',\n",
              "                                                         'log2'],\n",
              "                                        'max_leaf_nodes': [5, 7, 10],\n",
              "                                        'min_samples_leaf': [10, 20, 40],\n",
              "                                        'min_samples_split': [10, 20, 40],\n",
              "                                        'n_estimators': [100, 109, 118, 127,\n",
              "                                                         136, 145, 154, 163,\n",
              "                                                         172, 181, 190, 200]},\n",
              "                   random_state=0)"
            ]
          },
          "execution_count": 73,
          "metadata": {},
          "output_type": "execute_result"
        }
      ],
      "source": [
        "# Building the RandomizedSearchCV using the random grid containing the RF parameter values in the above cell\n",
        "# n_ter is the number of parameters sampled and scored using a stratified k-fold split (cv=3) validation technique\n",
        "\n",
        "RFC_mod=RandomForestClassifier()\n",
        "RFC_randomscv=RandomizedSearchCV(estimator=RFC_mod,param_distributions=random_grid,n_iter=22,cv=3,\n",
        "                               random_state=0,n_jobs=-1)\n",
        "RFC_randomscv.fit(x_train,y_train)"
      ]
    },
    {
      "cell_type": "code",
      "execution_count": 74,
      "metadata": {
        "colab": {
          "base_uri": "https://localhost:8080/"
        },
        "id": "1ir-5vB2j7RQ",
        "outputId": "2e6db3ea-ae2d-4604-e9c0-3309f0c7c8fd"
      },
      "outputs": [
        {
          "data": {
            "text/plain": [
              "{'n_estimators': 200,\n",
              " 'min_samples_split': 40,\n",
              " 'min_samples_leaf': 20,\n",
              " 'max_leaf_nodes': 7,\n",
              " 'max_features': 'sqrt',\n",
              " 'max_depth': 139,\n",
              " 'criterion': 'gini',\n",
              " 'bootstrap': True}"
            ]
          },
          "execution_count": 74,
          "metadata": {},
          "output_type": "execute_result"
        }
      ],
      "source": [
        "# Note re-running this provides different \"best\" parameters associated to each random run from the above cell - this will likely not reflect the parameters detailed in the paper\n",
        "RFC_randomscv.best_params_"
      ]
    },
    {
      "cell_type": "code",
      "execution_count": 75,
      "metadata": {
        "id": "1vJZ7i2CkCVD"
      },
      "outputs": [],
      "source": [
        "# Output\n",
        "best_grid=RFC_randomscv.best_estimator_"
      ]
    },
    {
      "cell_type": "code",
      "execution_count": 76,
      "metadata": {
        "colab": {
          "base_uri": "https://localhost:8080/"
        },
        "id": "MzITPb3zkd0l",
        "outputId": "66b264ee-3648-4933-9c72-35c42e0f098d"
      },
      "outputs": [
        {
          "name": "stdout",
          "output_type": "stream",
          "text": [
            "[[108  15]\n",
            " [ 31  38]] \n",
            "\n",
            "Accuracy Score from Proposed Modifications 76.0% \n",
            "\n",
            "Classification Report for Proposed Modifications:\n",
            "\n",
            "              precision    recall  f1-score   support\n",
            "\n",
            "           0       0.78      0.88      0.82       123\n",
            "           1       0.72      0.55      0.62        69\n",
            "\n",
            "    accuracy                           0.76       192\n",
            "   macro avg       0.75      0.71      0.72       192\n",
            "weighted avg       0.76      0.76      0.75       192\n",
            "\n"
          ]
        }
      ],
      "source": [
        "from sklearn.metrics import confusion_matrix\n",
        "\n",
        "# Result from the Proposed Modifications\n",
        "y_pred=best_grid.predict(x_test)\n",
        "print(confusion_matrix(y_test,y_pred), \"\\n\")\n",
        "print(\"Accuracy Score from Proposed Modifications {}%\".format(round(accuracy_score(y_test,y_pred)*100, 1)), \"\\n\")\n",
        "print(\"Classification Report for Proposed Modifications:\\n\")\n",
        "print(\"{}\".format(classification_report(y_test,y_pred)))"
      ]
    },
    {
      "cell_type": "code",
      "execution_count": 77,
      "metadata": {
        "colab": {
          "base_uri": "https://localhost:8080/",
          "height": 280
        },
        "id": "hGWPT-I5S5jV",
        "outputId": "bb887cbd-69e2-4b0e-c499-c31cb104ccc0"
      },
      "outputs": [
        {
          "data": {
            "image/png": "[encoded data removed]",
            "text/plain": [
              "<Figure size 432x288 with 2 Axes>"
            ]
          },
          "metadata": {
            "needs_background": "light"
          },
          "output_type": "display_data"
        }
      ],
      "source": [
        "# Result Continued \n",
        "\n",
        "confusion_matrix = confusion_matrix(y_test, y_pred)\n",
        "cm_display = ConfusionMatrixDisplay(confusion_matrix = confusion_matrix, display_labels = [False, True])\n",
        "cm_display.plot()\n",
        "plt.grid(False)"
      ]
    }
  ],
  "metadata": {
    "colab": {
      "provenance": []
    },
    "kernelspec": {
      "display_name": "Python 3",
      "name": "python3"
    },
    "language_info": {
      "name": "python"
    }
  },
  "nbformat": 4,
  "nbformat_minor": 0
}
