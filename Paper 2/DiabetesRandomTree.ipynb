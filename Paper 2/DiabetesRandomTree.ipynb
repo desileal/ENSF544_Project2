{
  "cells": [
    {
      "cell_type": "code",
      "execution_count": 50,
      "metadata": {
        "colab": {
          "base_uri": "https://localhost:8080/",
          "height": 328
        },
        "id": "5AZKWVT_FgFs",
        "outputId": "2a23a4c2-7a7e-4f93-9afa-768466e656b0"
      },
      "outputs": [
        {
          "name": "stdout",
          "output_type": "stream",
          "text": [
            "(768, 9)\n",
            "   Pregnancies  Glucose  BloodPressure  SkinThickness  Insulin   BMI  \\\n",
            "0            6      148             72             35        0  33.6   \n",
            "1            1       85             66             29        0  26.6   \n",
            "2            8      183             64              0        0  23.3   \n",
            "3            1       89             66             23       94  28.1   \n",
            "4            0      137             40             35      168  43.1   \n",
            "\n",
            "   DiabetesPedigreeFunction  Age  Outcome  \n",
            "0                     0.627   50        1  \n",
            "1                     0.351   31        0  \n",
            "2                     0.672   32        1  \n",
            "3                     0.167   21        0  \n",
            "4                     2.288   33        1  \n",
            "0    1\n",
            "1    0\n",
            "2    1\n",
            "3    0\n",
            "4    1\n",
            "Name: Outcome, dtype: int64\n",
            "   Pregnancies  Glucose  BloodPressure  SkinThickness  Insulin   BMI  \\\n",
            "0            6      148             72             35        0  33.6   \n",
            "1            1       85             66             29        0  26.6   \n",
            "2            8      183             64              0        0  23.3   \n",
            "3            1       89             66             23       94  28.1   \n",
            "4            0      137             40             35      168  43.1   \n",
            "\n",
            "   DiabetesPedigreeFunction  Age  \n",
            "0                     0.627   50  \n",
            "1                     0.351   31  \n",
            "2                     0.672   32  \n",
            "3                     0.167   21  \n",
            "4                     2.288   33  \n",
            "x_train:  (576, 8)\n",
            "y_train:  (576,)\n",
            "x_test:  (192, 8)\n",
            "y_test:  (192,)\n"
          ]
        }
      ],
      "source": [
        "import pandas as pd\n",
        "import numpy as np\n",
        "\n",
        "#Load data\n",
        "dataset = pd.read_csv(\"diabetes.csv\")\n",
        "print(dataset.shape)\n",
        "print(dataset.head())\n",
        "\n",
        "#Split features\n",
        "y = dataset[\"Outcome\"]\n",
        "x = dataset.drop(\"Outcome\", axis=1)\n",
        "\n",
        "print(y.head())\n",
        "print(x.head())\n",
        "\n",
        "#Train test split\n",
        "from sklearn.model_selection import train_test_split\n",
        "x_train, x_test, y_train, y_test = train_test_split(x, y, random_state=0)\n",
        "\n",
        "print(\"x_train: \",x_train.shape)\n",
        "print(\"y_train: \",y_train.shape)\n",
        "print(\"x_test: \",x_test.shape)\n",
        "print(\"y_test: \",y_test.shape)"
      ]
    },
    {
      "cell_type": "code",
      "execution_count": 51,
      "metadata": {},
      "outputs": [
        {
          "name": "stdout",
          "output_type": "stream",
          "text": [
            "Accuracy 0.7864583333333334\n",
            "Precision 0.7142857142857143\n"
          ]
        }
      ],
      "source": [
        "### Technique from paper\n",
        "\n",
        "from sklearn.ensemble import RandomForestClassifier\n",
        "from sklearn import metrics\n",
        "\n",
        "#Preprocess data\n",
        "x_train['Glucose'] = x_train['Glucose'].replace(0, x_train['Glucose'].mean())\n",
        "x_test['Glucose'] = x_test['Glucose'].replace(0, x_test['Glucose'].mean())\n",
        "\n",
        "x_train['BMI'] = x_train['BMI'].replace(0, x_train['BMI'].mean())\n",
        "x_test['BMI'] = x_test['BMI'].replace(0, x_test['BMI'].mean())\n",
        "\n",
        "x_train['BloodPressure'] = x_train['BloodPressure'].replace(0, x_train['BloodPressure'].mean())\n",
        "x_test['BloodPressure'] = x_test['BloodPressure'].replace(0, x_test['BloodPressure'].mean())\n",
        "\n",
        "#Make model\n",
        "model = RandomForestClassifier(n_estimators=100, random_state=0)\n",
        "\n",
        "#Train model\n",
        "model.fit(x_train, y_train)\n",
        "\n",
        "#Evaluate model\n",
        "y_pred = model.predict(x_test)\n",
        "\n",
        "accuracy = metrics.accuracy_score(y_test, y_pred)\n",
        "print(\"Accuracy\", accuracy)\n",
        "\n",
        "precision = metrics.precision_score(y_test, y_pred)\n",
        "print(\"Precision\", precision)"
      ]
    },
    {
      "cell_type": "code",
      "execution_count": 52,
      "metadata": {},
      "outputs": [
        {
          "name": "stdout",
          "output_type": "stream",
          "text": [
            "SkinThickness               0.071343\n",
            "Insulin                     0.074678\n",
            "Pregnancies                 0.082139\n",
            "BloodPressure               0.087816\n",
            "DiabetesPedigreeFunction    0.125195\n",
            "Age                         0.144463\n",
            "BMI                         0.172813\n",
            "Glucose                     0.241553\n",
            "dtype: float64\n",
            "Accuracy:  0.8177083333333334\n",
            "Precision:  0.7547169811320755\n",
            "n_estimators: 30 max_depth: 7 criterion: gini\n"
          ]
        }
      ],
      "source": [
        "### Our improvement (Feature selection)\n",
        "\n",
        "from sklearn.ensemble import RandomForestClassifier\n",
        "from sklearn import metrics\n",
        "\n",
        "#Use same data & preprocesing as paper\n",
        "\n",
        "#Make model\n",
        "model = RandomForestClassifier(n_estimators=100, random_state=0)\n",
        "\n",
        "#Find important features\n",
        "model.fit(x_train, y_train)\n",
        "important_features = pd.Series(model.feature_importances_, index = x.columns).sort_values()\n",
        "\n",
        "print(important_features)\n",
        "\n",
        "#Drop non important features\n",
        "x_train = x_train.drop(\"SkinThickness\", axis=1)\n",
        "x_test = x_test.drop(\"SkinThickness\", axis=1)\n",
        "\n",
        "x_train = x_train.drop(\"Insulin\", axis=1)\n",
        "x_test = x_test.drop(\"Insulin\", axis=1)\n",
        "\n",
        "x_train = x_train.drop(\"Pregnancies\", axis=1)\n",
        "x_test = x_test.drop(\"Pregnancies\", axis=1)\n",
        "\n",
        "x_train = x_train.drop(\"BloodPressure\", axis=1)\n",
        "x_test = x_test.drop(\"BloodPressure\", axis=1)\n",
        "\n",
        "# x_train = x_train.drop(\"DiabetesPedigreeFunction\", axis=1)\n",
        "# x_test = x_test.drop(\"DiabetesPedigreeFunction\", axis=1)\n",
        "\n",
        "accuracy_list = []\n",
        "precision_list  =[]\n",
        "values_list = []\n",
        "\n",
        "#Train model\n",
        "for i in range(10, 150, 10):\n",
        "    for n in range(1, 10):\n",
        "        for x in [\"gini\", \"entropy\", \"log_loss\"]:\n",
        "            model = RandomForestClassifier(n_estimators=i, random_state=0, max_depth=n, criterion=x)\n",
        "            model.fit(x_train, y_train)\n",
        "\n",
        "            #Evaluate model\n",
        "            y_pred = model.predict(x_test)\n",
        "\n",
        "            accuracy = metrics.accuracy_score(y_test, y_pred)\n",
        "            values_list.append(\"n_estimators: \" + str(i) + \" max_depth: \" + str(n) + \" criterion: \" + str(x))\n",
        "            accuracy_list.append(accuracy)\n",
        "\n",
        "            precision = metrics.precision_score(y_test, y_pred)\n",
        "            precision_list.append(precision)\n",
        "\n",
        "index = accuracy_list.index(max(accuracy_list))\n",
        "\n",
        "print(\"Accuracy: \", accuracy_list[index])\n",
        "print(\"Precision: \", precision_list[index])\n",
        "print(values_list[index])"
      ]
    },
    {
      "cell_type": "code",
      "execution_count": 53,
      "metadata": {},
      "outputs": [
        {
          "name": "stdout",
          "output_type": "stream",
          "text": [
            "Accuracy:  0.8177083333333334\n",
            "Precision:  0.7547169811320755\n"
          ]
        },
        {
          "name": "stderr",
          "output_type": "stream",
          "text": [
            "C:\\Users\\jerom\\AppData\\Local\\Packages\\PythonSoftwareFoundation.Python.3.9_qbz5n2kfra8p0\\LocalCache\\local-packages\\Python39\\site-packages\\sklearn\\utils\\deprecation.py:87: FutureWarning: Function plot_confusion_matrix is deprecated; Function `plot_confusion_matrix` is deprecated in 1.0 and will be removed in 1.2. Use one of the class methods: ConfusionMatrixDisplay.from_predictions or ConfusionMatrixDisplay.from_estimator.\n",
            "  warnings.warn(msg, category=FutureWarning)\n"
          ]
        },
        {
          "data": {
            "image/png": "[encoded data removed]",
            "text/plain": [
              "<Figure size 640x480 with 2 Axes>"
            ]
          },
          "metadata": {},
          "output_type": "display_data"
        }
      ],
      "source": [
        "### Our improvement (Feature selection)\n",
        "\n",
        "from sklearn.ensemble import RandomForestClassifier\n",
        "from sklearn import metrics\n",
        "from sklearn.metrics import confusion_matrix\n",
        "import matplotlib.pyplot as plt\n",
        "from sklearn.metrics import plot_confusion_matrix\n",
        "\n",
        "#Drop non important features (Already done)\n",
        "\n",
        "# x_train = x_train.drop(\"SkinThickness\", axis=1)\n",
        "# x_test = x_test.drop(\"SkinThickness\", axis=1)\n",
        "\n",
        "# x_train = x_train.drop(\"Insulin\", axis=1)\n",
        "# x_test = x_test.drop(\"Insulin\", axis=1)\n",
        "\n",
        "# x_train = x_train.drop(\"Pregnancies\", axis=1)\n",
        "# x_test = x_test.drop(\"Pregnancies\", axis=1)\n",
        "\n",
        "# x_train = x_train.drop(\"BloodPressure\", axis=1)\n",
        "# x_test = x_test.drop(\"BloodPressure\", axis=1)\n",
        "\n",
        "accuracy_list = []\n",
        "precision_list  =[]\n",
        "values_list = []\n",
        "\n",
        "model = RandomForestClassifier(n_estimators=30, random_state=0, max_depth=7)\n",
        "model.fit(x_train, y_train)\n",
        "\n",
        "#Evaluate model\n",
        "y_pred = model.predict(x_test)\n",
        "\n",
        "accuracy = metrics.accuracy_score(y_test, y_pred)\n",
        "\n",
        "print(\"Accuracy: \", accuracy)\n",
        "\n",
        "precision = metrics.precision_score(y_test, y_pred)\n",
        "print(\"Precision: \", precision)\n",
        "\n",
        "confusion_matrix(y_test, y_pred)\n",
        "plot_confusion_matrix(model, x_test, y_test)\n",
        "plt.show()"
      ]
    }
  ],
  "metadata": {
    "colab": {
      "provenance": []
    },
    "kernelspec": {
      "display_name": "Python 3.9.13 64-bit (microsoft store)",
      "language": "python",
      "name": "python3"
    },
    "language_info": {
      "codemirror_mode": {
        "name": "ipython",
        "version": 3
      },
      "file_extension": ".py",
      "mimetype": "text/x-python",
      "name": "python",
      "nbconvert_exporter": "python",
      "pygments_lexer": "ipython3",
      "version": "3.9.13"
    },
    "vscode": {
      "interpreter": {
        "hash": "bb790a1ba66a15a415105a90a057f2699e6dd355ae883736c1f35c14eac88fde"
      }
    }
  },
  "nbformat": 4,
  "nbformat_minor": 0
}
